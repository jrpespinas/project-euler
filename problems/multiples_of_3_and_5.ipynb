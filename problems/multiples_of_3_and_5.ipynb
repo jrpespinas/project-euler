{
 "cells": [
  {
   "cell_type": "markdown",
   "metadata": {},
   "source": [
    "Multiples of 3 and 5\n",
    "===\n",
    "\n",
    "## Problem\n",
    "If we list all the natural numbers below 10 that are multiples of 3 or 5, \n",
    "we get 3, 5, 6 and 9. The sum of these multiples is 23.\n",
    "Find the sum of all the multiples of 3 or 5 below 1000.\n"
   ]
  },
  {
   "cell_type": "code",
   "execution_count": 1,
   "metadata": {},
   "outputs": [
    {
     "name": "stdout",
     "output_type": "stream",
     "text": [
      "233168\n"
     ]
    }
   ],
   "source": [
    "def multiples_of_3_and_5(n = 1000):\n",
    "    return sum([i for i in range(1,n) if (i%3 == 0) or (i%5 == 0)])\n",
    "\n",
    "if __name__ == \"__main__\":\n",
    "    print(multiples_of_3_and_5(1000))"
   ]
  }
 ],
 "metadata": {
  "kernelspec": {
   "display_name": "Python 3",
   "language": "python",
   "name": "python3"
  },
  "language_info": {
   "codemirror_mode": {
    "name": "ipython",
    "version": 3
   },
   "file_extension": ".py",
   "mimetype": "text/x-python",
   "name": "python",
   "nbconvert_exporter": "python",
   "pygments_lexer": "ipython3",
   "version": "3.6.8"
  }
 },
 "nbformat": 4,
 "nbformat_minor": 2
}
