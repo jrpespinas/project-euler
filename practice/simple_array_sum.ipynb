{
 "cells": [
  {
   "cell_type": "code",
   "execution_count": null,
   "metadata": {},
   "outputs": [],
   "source": [
    "def simpleArraySum(ar):\n",
    "    \"\"\"\n",
    "    Returns the sum of the integers within `ar`\n",
    "\n",
    "    Parameters\n",
    "    ----------\n",
    "    ar : list\n",
    "        list of integers\n",
    "\n",
    "    Returns\n",
    "    -------\n",
    "    int\n",
    "        the sum of the list of integers\n",
    "    \"\"\"\n",
    "    return sum(ar)\n",
    "\n",
    "\n",
    "if __name__ == '__main__':\n",
    "    ar_count = int(input())\n",
    "\n",
    "    ar = list(map(int, input().rstrip().split(maxsplit=ar_count)))\n",
    "\n",
    "    result = simpleArraySum(ar)\n",
    "\n",
    "    print(result)"
   ]
  },
  {
   "cell_type": "code",
   "execution_count": null,
   "metadata": {},
   "outputs": [],
   "source": []
  }
 ],
 "metadata": {
  "kernelspec": {
   "display_name": "Python 3",
   "language": "python",
   "name": "python3"
  },
  "language_info": {
   "codemirror_mode": {
    "name": "ipython",
    "version": 3
   },
   "file_extension": ".py",
   "mimetype": "text/x-python",
   "name": "python",
   "nbconvert_exporter": "python",
   "pygments_lexer": "ipython3",
   "version": "3.6.8"
  }
 },
 "nbformat": 4,
 "nbformat_minor": 2
}
