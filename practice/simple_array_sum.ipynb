{
 "cells": [
  {
   "cell_type": "markdown",
   "metadata": {},
   "source": [
    "# Simple Array Sum"
   ]
  },
  {
   "cell_type": "markdown",
   "metadata": {},
   "source": [
    "## Problem\n",
    "\n",
    "Given an array of integers, find the sum of its elements.<br>\n",
    "For example, if the array , $ar = [1,2,3]$, $1 + 2 + 3 = 6$, so return $6$."
   ]
  },
  {
   "cell_type": "markdown",
   "metadata": {},
   "source": [
    "## Input Format\n",
    "The first line contains an integer, $n$, denoting the size of the array. <br>\n",
    "The second line contains $n$ space-separated integers representing the array's elements."
   ]
  },
  {
   "cell_type": "markdown",
   "metadata": {},
   "source": [
    "## Constraints\n",
    "$ 0 < n, ar[i] \\leq 1000 $"
   ]
  },
  {
   "cell_type": "markdown",
   "metadata": {},
   "source": [
    "## Output Format\n",
    "Print the sum of the array's elements as a single integer."
   ]
  },
  {
   "cell_type": "markdown",
   "metadata": {},
   "source": [
    "## Sample Input\n",
    "\n",
    "```\n",
    "6\n",
    "1 2 3 4 5 6\n",
    "```"
   ]
  },
  {
   "cell_type": "markdown",
   "metadata": {},
   "source": [
    "## Sample Output\n",
    "\n",
    "```\n",
    "21\n",
    "```"
   ]
  },
  {
   "cell_type": "code",
   "execution_count": 1,
   "metadata": {},
   "outputs": [
    {
     "name": "stdout",
     "output_type": "stream",
     "text": [
      "6\n",
      "1 2 3 4 5 6\n",
      "21\n"
     ]
    }
   ],
   "source": [
    "def simpleArraySum(ar):\n",
    "    \"\"\"\n",
    "    Returns the sum of the integers within `ar`\n",
    "\n",
    "    Parameters\n",
    "    ----------\n",
    "    ar : list\n",
    "        list of integers\n",
    "\n",
    "    Returns\n",
    "    -------\n",
    "    int\n",
    "        the sum of the list of integers\n",
    "    \"\"\"\n",
    "    return sum(ar)\n",
    "\n",
    "\n",
    "if __name__ == '__main__':\n",
    "    ar_count = int(input())\n",
    "\n",
    "    ar = list(map(int, input().rstrip().split(maxsplit=ar_count)))\n",
    "\n",
    "    result = simpleArraySum(ar)\n",
    "\n",
    "    print(result)"
   ]
  },
  {
   "cell_type": "code",
   "execution_count": null,
   "metadata": {},
   "outputs": [],
   "source": []
  }
 ],
 "metadata": {
  "kernelspec": {
   "display_name": "Python 3",
   "language": "python",
   "name": "python3"
  },
  "language_info": {
   "codemirror_mode": {
    "name": "ipython",
    "version": 3
   },
   "file_extension": ".py",
   "mimetype": "text/x-python",
   "name": "python",
   "nbconvert_exporter": "python",
   "pygments_lexer": "ipython3",
   "version": "3.6.8"
  }
 },
 "nbformat": 4,
 "nbformat_minor": 2
}
